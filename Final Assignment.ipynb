{
 "cells": [
  {
   "cell_type": "code",
   "execution_count": 7,
   "metadata": {
    "id": "WttwrQy-XtRs"
   },
   "outputs": [],
   "source": [
    "import pandas as pd\n",
    "import numpy as np\n",
    "import yfinance as yf\n",
    "import requests\n",
    "from bs4 import BeautifulSoup"
   ]
  },
  {
   "cell_type": "markdown",
   "metadata": {
    "id": "1hiC6_uAYUfJ"
   },
   "source": [
    "Question 1: Use yfinance to Extract Stock Data\n",
    "\n",
    "Reset the index, save, and display the first five rows of the tesla_data dataframe using the head function.\n",
    "\n",
    "Upload a screenshot of the results and code from the beginning of Question 1 to the results below."
   ]
  },
  {
   "cell_type": "code",
   "execution_count": 8,
   "metadata": {
    "id": "B9h3SdAyYCnz"
   },
   "outputs": [],
   "source": [
    "TSLA = yf.Ticker(\"TSLA\")"
   ]
  },
  {
   "cell_type": "code",
   "execution_count": 9,
   "metadata": {
    "id": "ex3PwDRSYg9X"
   },
   "outputs": [],
   "source": [
    "tesla_data = TSLA.history(period=\"max\")"
   ]
  },
  {
   "cell_type": "code",
   "execution_count": 10,
   "metadata": {
    "id": "Y0zpQAl-Yjdz"
   },
   "outputs": [],
   "source": [
    "tesla_data.reset_index(inplace=True)"
   ]
  },
  {
   "cell_type": "code",
   "execution_count": 11,
   "metadata": {
    "colab": {
     "base_uri": "https://localhost:8080/",
     "height": 206
    },
    "id": "LJzyCjuoYqqX",
    "outputId": "d8de403d-2079-4e81-b0a7-718cd4ca44b6"
   },
   "outputs": [
    {
     "data": {
      "text/html": [
       "<div>\n",
       "<style scoped>\n",
       "    .dataframe tbody tr th:only-of-type {\n",
       "        vertical-align: middle;\n",
       "    }\n",
       "\n",
       "    .dataframe tbody tr th {\n",
       "        vertical-align: top;\n",
       "    }\n",
       "\n",
       "    .dataframe thead th {\n",
       "        text-align: right;\n",
       "    }\n",
       "</style>\n",
       "<table border=\"1\" class=\"dataframe\">\n",
       "  <thead>\n",
       "    <tr style=\"text-align: right;\">\n",
       "      <th></th>\n",
       "      <th>Date</th>\n",
       "      <th>Open</th>\n",
       "      <th>High</th>\n",
       "      <th>Low</th>\n",
       "      <th>Close</th>\n",
       "      <th>Volume</th>\n",
       "      <th>Dividends</th>\n",
       "      <th>Stock Splits</th>\n",
       "    </tr>\n",
       "  </thead>\n",
       "  <tbody>\n",
       "    <tr>\n",
       "      <th>0</th>\n",
       "      <td>2010-06-29 00:00:00-04:00</td>\n",
       "      <td>1.266667</td>\n",
       "      <td>1.666667</td>\n",
       "      <td>1.169333</td>\n",
       "      <td>1.592667</td>\n",
       "      <td>281494500</td>\n",
       "      <td>0.0</td>\n",
       "      <td>0.0</td>\n",
       "    </tr>\n",
       "    <tr>\n",
       "      <th>1</th>\n",
       "      <td>2010-06-30 00:00:00-04:00</td>\n",
       "      <td>1.719333</td>\n",
       "      <td>2.028000</td>\n",
       "      <td>1.553333</td>\n",
       "      <td>1.588667</td>\n",
       "      <td>257806500</td>\n",
       "      <td>0.0</td>\n",
       "      <td>0.0</td>\n",
       "    </tr>\n",
       "    <tr>\n",
       "      <th>2</th>\n",
       "      <td>2010-07-01 00:00:00-04:00</td>\n",
       "      <td>1.666667</td>\n",
       "      <td>1.728000</td>\n",
       "      <td>1.351333</td>\n",
       "      <td>1.464000</td>\n",
       "      <td>123282000</td>\n",
       "      <td>0.0</td>\n",
       "      <td>0.0</td>\n",
       "    </tr>\n",
       "    <tr>\n",
       "      <th>3</th>\n",
       "      <td>2010-07-02 00:00:00-04:00</td>\n",
       "      <td>1.533333</td>\n",
       "      <td>1.540000</td>\n",
       "      <td>1.247333</td>\n",
       "      <td>1.280000</td>\n",
       "      <td>77097000</td>\n",
       "      <td>0.0</td>\n",
       "      <td>0.0</td>\n",
       "    </tr>\n",
       "    <tr>\n",
       "      <th>4</th>\n",
       "      <td>2010-07-06 00:00:00-04:00</td>\n",
       "      <td>1.333333</td>\n",
       "      <td>1.333333</td>\n",
       "      <td>1.055333</td>\n",
       "      <td>1.074000</td>\n",
       "      <td>103003500</td>\n",
       "      <td>0.0</td>\n",
       "      <td>0.0</td>\n",
       "    </tr>\n",
       "  </tbody>\n",
       "</table>\n",
       "</div>"
      ],
      "text/plain": [
       "                       Date      Open      High       Low     Close  \\\n",
       "0 2010-06-29 00:00:00-04:00  1.266667  1.666667  1.169333  1.592667   \n",
       "1 2010-06-30 00:00:00-04:00  1.719333  2.028000  1.553333  1.588667   \n",
       "2 2010-07-01 00:00:00-04:00  1.666667  1.728000  1.351333  1.464000   \n",
       "3 2010-07-02 00:00:00-04:00  1.533333  1.540000  1.247333  1.280000   \n",
       "4 2010-07-06 00:00:00-04:00  1.333333  1.333333  1.055333  1.074000   \n",
       "\n",
       "      Volume  Dividends  Stock Splits  \n",
       "0  281494500        0.0           0.0  \n",
       "1  257806500        0.0           0.0  \n",
       "2  123282000        0.0           0.0  \n",
       "3   77097000        0.0           0.0  \n",
       "4  103003500        0.0           0.0  "
      ]
     },
     "execution_count": 11,
     "metadata": {},
     "output_type": "execute_result"
    }
   ],
   "source": [
    "tesla_data.head(5)"
   ]
  },
  {
   "cell_type": "markdown",
   "metadata": {
    "id": "AgDllmkqZUKq"
   },
   "source": [
    "Question 2: Use Webscraping to Extract Tesla Revenue Data\n",
    "\n",
    "Display the last five rows of the tesla_revenue dataframe using the tail function.\n",
    "\n",
    "Upload a screenshot of the results."
   ]
  },
  {
   "cell_type": "code",
   "execution_count": 12,
   "metadata": {
    "id": "NKICyoc8YxN9"
   },
   "outputs": [],
   "source": [
    "url = \"https://cf-courses-data.s3.us.cloud-object-storage.appdomain.cloud/IBMDeveloperSkillsNetwork-PY0220EN-SkillsNetwork/labs/project/revenue.htm\"\n",
    "response = requests.get(url).text\n",
    "soup = BeautifulSoup(response)"
   ]
  },
  {
   "cell_type": "code",
   "execution_count": 13,
   "metadata": {
    "colab": {
     "base_uri": "https://localhost:8080/",
     "height": 206
    },
    "id": "gvHL6aEnZiqT",
    "outputId": "c823b292-2950-48b0-bf57-cbe95e75c400"
   },
   "outputs": [
    {
     "data": {
      "text/html": [
       "<div>\n",
       "<style scoped>\n",
       "    .dataframe tbody tr th:only-of-type {\n",
       "        vertical-align: middle;\n",
       "    }\n",
       "\n",
       "    .dataframe tbody tr th {\n",
       "        vertical-align: top;\n",
       "    }\n",
       "\n",
       "    .dataframe thead th {\n",
       "        text-align: right;\n",
       "    }\n",
       "</style>\n",
       "<table border=\"1\" class=\"dataframe\">\n",
       "  <thead>\n",
       "    <tr style=\"text-align: right;\">\n",
       "      <th></th>\n",
       "      <th>Date</th>\n",
       "      <th>Revenue</th>\n",
       "    </tr>\n",
       "  </thead>\n",
       "  <tbody>\n",
       "    <tr>\n",
       "      <th>8</th>\n",
       "      <td>2013</td>\n",
       "      <td>2013</td>\n",
       "    </tr>\n",
       "    <tr>\n",
       "      <th>9</th>\n",
       "      <td>2012</td>\n",
       "      <td>413</td>\n",
       "    </tr>\n",
       "    <tr>\n",
       "      <th>10</th>\n",
       "      <td>2011</td>\n",
       "      <td>204</td>\n",
       "    </tr>\n",
       "    <tr>\n",
       "      <th>11</th>\n",
       "      <td>2010</td>\n",
       "      <td>117</td>\n",
       "    </tr>\n",
       "    <tr>\n",
       "      <th>12</th>\n",
       "      <td>2009</td>\n",
       "      <td>112</td>\n",
       "    </tr>\n",
       "  </tbody>\n",
       "</table>\n",
       "</div>"
      ],
      "text/plain": [
       "    Date Revenue\n",
       "8   2013    2013\n",
       "9   2012     413\n",
       "10  2011     204\n",
       "11  2010     117\n",
       "12  2009     112"
      ]
     },
     "execution_count": 13,
     "metadata": {},
     "output_type": "execute_result"
    }
   ],
   "source": [
    "tesla_revenue = pd.DataFrame(columns=[\"Date\",\"Revenue\"])\n",
    "for row in soup.find(\"tbody\").find_all(\"tr\"):\n",
    "  col = row.find_all(\"td\")\n",
    "  year = col[0].text\n",
    "  revenue = int(col[1].text.strip(\"$\").replace(\",\",\"\"))\n",
    "  tesla_revenue = pd.concat([tesla_revenue,pd.DataFrame({\"Date\":[year],\"Revenue\":[revenue]})],ignore_index=True)\n",
    "tesla_revenue.tail(5)"
   ]
  },
  {
   "cell_type": "markdown",
   "metadata": {
    "id": "8ojZncqBcZIi"
   },
   "source": [
    "Question 3: Use yfinance to Extract Stock Data\n",
    "\n",
    "Reset the index, save, and display the first five rows of the gme_data dataframe using the head function.\n",
    "\n",
    "Upload a screenshot of the results and code from the beginning of Question 1 to the results below."
   ]
  },
  {
   "cell_type": "code",
   "execution_count": 14,
   "metadata": {
    "colab": {
     "base_uri": "https://localhost:8080/",
     "height": 206
    },
    "id": "nrIE6dWfabbo",
    "outputId": "96b7c774-87b7-4bd0-f6b8-95cf61f0b735"
   },
   "outputs": [
    {
     "data": {
      "text/html": [
       "<div>\n",
       "<style scoped>\n",
       "    .dataframe tbody tr th:only-of-type {\n",
       "        vertical-align: middle;\n",
       "    }\n",
       "\n",
       "    .dataframe tbody tr th {\n",
       "        vertical-align: top;\n",
       "    }\n",
       "\n",
       "    .dataframe thead th {\n",
       "        text-align: right;\n",
       "    }\n",
       "</style>\n",
       "<table border=\"1\" class=\"dataframe\">\n",
       "  <thead>\n",
       "    <tr style=\"text-align: right;\">\n",
       "      <th></th>\n",
       "      <th>Date</th>\n",
       "      <th>Open</th>\n",
       "      <th>High</th>\n",
       "      <th>Low</th>\n",
       "      <th>Close</th>\n",
       "      <th>Volume</th>\n",
       "      <th>Dividends</th>\n",
       "      <th>Stock Splits</th>\n",
       "    </tr>\n",
       "  </thead>\n",
       "  <tbody>\n",
       "    <tr>\n",
       "      <th>0</th>\n",
       "      <td>2002-02-13 00:00:00-05:00</td>\n",
       "      <td>1.620128</td>\n",
       "      <td>1.693350</td>\n",
       "      <td>1.603296</td>\n",
       "      <td>1.691666</td>\n",
       "      <td>76216000</td>\n",
       "      <td>0.0</td>\n",
       "      <td>0.0</td>\n",
       "    </tr>\n",
       "    <tr>\n",
       "      <th>1</th>\n",
       "      <td>2002-02-14 00:00:00-05:00</td>\n",
       "      <td>1.712707</td>\n",
       "      <td>1.716074</td>\n",
       "      <td>1.670626</td>\n",
       "      <td>1.683250</td>\n",
       "      <td>11021600</td>\n",
       "      <td>0.0</td>\n",
       "      <td>0.0</td>\n",
       "    </tr>\n",
       "    <tr>\n",
       "      <th>2</th>\n",
       "      <td>2002-02-15 00:00:00-05:00</td>\n",
       "      <td>1.683251</td>\n",
       "      <td>1.687459</td>\n",
       "      <td>1.658002</td>\n",
       "      <td>1.674834</td>\n",
       "      <td>8389600</td>\n",
       "      <td>0.0</td>\n",
       "      <td>0.0</td>\n",
       "    </tr>\n",
       "    <tr>\n",
       "      <th>3</th>\n",
       "      <td>2002-02-19 00:00:00-05:00</td>\n",
       "      <td>1.666418</td>\n",
       "      <td>1.666418</td>\n",
       "      <td>1.578047</td>\n",
       "      <td>1.607504</td>\n",
       "      <td>7410400</td>\n",
       "      <td>0.0</td>\n",
       "      <td>0.0</td>\n",
       "    </tr>\n",
       "    <tr>\n",
       "      <th>4</th>\n",
       "      <td>2002-02-20 00:00:00-05:00</td>\n",
       "      <td>1.615920</td>\n",
       "      <td>1.662210</td>\n",
       "      <td>1.603296</td>\n",
       "      <td>1.662210</td>\n",
       "      <td>6892800</td>\n",
       "      <td>0.0</td>\n",
       "      <td>0.0</td>\n",
       "    </tr>\n",
       "  </tbody>\n",
       "</table>\n",
       "</div>"
      ],
      "text/plain": [
       "                       Date      Open      High       Low     Close    Volume  \\\n",
       "0 2002-02-13 00:00:00-05:00  1.620128  1.693350  1.603296  1.691666  76216000   \n",
       "1 2002-02-14 00:00:00-05:00  1.712707  1.716074  1.670626  1.683250  11021600   \n",
       "2 2002-02-15 00:00:00-05:00  1.683251  1.687459  1.658002  1.674834   8389600   \n",
       "3 2002-02-19 00:00:00-05:00  1.666418  1.666418  1.578047  1.607504   7410400   \n",
       "4 2002-02-20 00:00:00-05:00  1.615920  1.662210  1.603296  1.662210   6892800   \n",
       "\n",
       "   Dividends  Stock Splits  \n",
       "0        0.0           0.0  \n",
       "1        0.0           0.0  \n",
       "2        0.0           0.0  \n",
       "3        0.0           0.0  \n",
       "4        0.0           0.0  "
      ]
     },
     "execution_count": 14,
     "metadata": {},
     "output_type": "execute_result"
    }
   ],
   "source": [
    "GME = yf.Ticker(\"GME\")\n",
    "gme_data = GME.history(period=\"max\")\n",
    "gme_data.reset_index(inplace=True)\n",
    "gme_data.head(5)"
   ]
  },
  {
   "cell_type": "markdown",
   "metadata": {
    "id": "aRGxrwVZgqv7"
   },
   "source": [
    "Question 4: Use Webscraping to Extract GME Revenue Data\n",
    "\n",
    "Display the last five rows of the gme_revenue dataframe using the tail function.\n",
    "\n",
    "Upload a screenshot of the results."
   ]
  },
  {
   "cell_type": "code",
   "execution_count": 15,
   "metadata": {
    "colab": {
     "base_uri": "https://localhost:8080/",
     "height": 206
    },
    "id": "LCpQecM8gYes",
    "outputId": "a4e63f6f-3319-41b8-f48a-b9820e80444f"
   },
   "outputs": [
    {
     "data": {
      "text/html": [
       "<div>\n",
       "<style scoped>\n",
       "    .dataframe tbody tr th:only-of-type {\n",
       "        vertical-align: middle;\n",
       "    }\n",
       "\n",
       "    .dataframe tbody tr th {\n",
       "        vertical-align: top;\n",
       "    }\n",
       "\n",
       "    .dataframe thead th {\n",
       "        text-align: right;\n",
       "    }\n",
       "</style>\n",
       "<table border=\"1\" class=\"dataframe\">\n",
       "  <thead>\n",
       "    <tr style=\"text-align: right;\">\n",
       "      <th></th>\n",
       "      <th>Date</th>\n",
       "      <th>Revenue</th>\n",
       "    </tr>\n",
       "  </thead>\n",
       "  <tbody>\n",
       "    <tr>\n",
       "      <th>11</th>\n",
       "      <td>2009</td>\n",
       "      <td>8806</td>\n",
       "    </tr>\n",
       "    <tr>\n",
       "      <th>12</th>\n",
       "      <td>2008</td>\n",
       "      <td>7094</td>\n",
       "    </tr>\n",
       "    <tr>\n",
       "      <th>13</th>\n",
       "      <td>2007</td>\n",
       "      <td>5319</td>\n",
       "    </tr>\n",
       "    <tr>\n",
       "      <th>14</th>\n",
       "      <td>2006</td>\n",
       "      <td>3092</td>\n",
       "    </tr>\n",
       "    <tr>\n",
       "      <th>15</th>\n",
       "      <td>2005</td>\n",
       "      <td>1843</td>\n",
       "    </tr>\n",
       "  </tbody>\n",
       "</table>\n",
       "</div>"
      ],
      "text/plain": [
       "    Date Revenue\n",
       "11  2009    8806\n",
       "12  2008    7094\n",
       "13  2007    5319\n",
       "14  2006    3092\n",
       "15  2005    1843"
      ]
     },
     "execution_count": 15,
     "metadata": {},
     "output_type": "execute_result"
    }
   ],
   "source": [
    "url = \"https://cf-courses-data.s3.us.cloud-object-storage.appdomain.cloud/IBMDeveloperSkillsNetwork-PY0220EN-SkillsNetwork/labs/project/stock.html\"\n",
    "gme_revenue = pd.DataFrame(columns=[\"Date\",\"Revenue\"])\n",
    "response = requests.get(url).text\n",
    "soup = BeautifulSoup(response,\"html.parser\")\n",
    "for row in soup.find(\"tbody\").find_all(\"tr\"):\n",
    "  col = row.find_all(\"td\")\n",
    "  year = col[0].text\n",
    "  revenue = col[1].text.strip(\"$\").replace(\",\",\"\")\n",
    "  gme_revenue = pd.concat([gme_revenue,pd.DataFrame({\"Date\":[year],\"Revenue\":[revenue]})],ignore_index=True)\n",
    "gme_revenue.tail(5)"
   ]
  },
  {
   "cell_type": "markdown",
   "metadata": {
    "id": "aVPfzq69i7nY"
   },
   "source": [
    "Question 5: Plot Tesla Stock Graph\n",
    "\n",
    "Use the make_graph function to graph the Tesla Stock Data, also provide a title for the graph.\n",
    "\n",
    "Upload a screenshot of your results."
   ]
  },
  {
   "cell_type": "code",
   "execution_count": 16,
   "metadata": {
    "id": "6yatxuEmkIoT"
   },
   "outputs": [
    {
     "ename": "ModuleNotFoundError",
     "evalue": "No module named 'plotly'",
     "output_type": "error",
     "traceback": [
      "\u001b[1;31m---------------------------------------------------------------------------\u001b[0m",
      "\u001b[1;31mModuleNotFoundError\u001b[0m                       Traceback (most recent call last)",
      "Cell \u001b[1;32mIn[16], line 1\u001b[0m\n\u001b[1;32m----> 1\u001b[0m \u001b[38;5;28;01mimport\u001b[39;00m \u001b[38;5;21;01mplotly\u001b[39;00m\u001b[38;5;21;01m.\u001b[39;00m\u001b[38;5;21;01mgraph_objects\u001b[39;00m \u001b[38;5;28;01mas\u001b[39;00m \u001b[38;5;21;01mgo\u001b[39;00m\n\u001b[0;32m      2\u001b[0m \u001b[38;5;28;01mfrom\u001b[39;00m \u001b[38;5;21;01mplotly\u001b[39;00m\u001b[38;5;21;01m.\u001b[39;00m\u001b[38;5;21;01msubplots\u001b[39;00m \u001b[38;5;28;01mimport\u001b[39;00m make_subplots\n\u001b[0;32m      3\u001b[0m \u001b[38;5;28;01mimport\u001b[39;00m \u001b[38;5;21;01mwarnings\u001b[39;00m\n",
      "\u001b[1;31mModuleNotFoundError\u001b[0m: No module named 'plotly'"
     ]
    }
   ],
   "source": [
    "import plotly.graph_objects as go\n",
    "from plotly.subplots import make_subplots\n",
    "import warnings\n",
    "# Ignore all warnings\n",
    "warnings.filterwarnings(\"ignore\", category=FutureWarning)"
   ]
  },
  {
   "cell_type": "code",
   "execution_count": 17,
   "metadata": {},
   "outputs": [
    {
     "name": "stdout",
     "output_type": "stream",
     "text": [
      "Collecting plotly\n",
      "  Obtaining dependency information for plotly from https://files.pythonhosted.org/packages/b8/f0/bcf716a8e070370d6598c92fcd328bd9ef8a9bda2c5562da5a835c66700b/plotly-5.23.0-py3-none-any.whl.metadata\n",
      "  Downloading plotly-5.23.0-py3-none-any.whl.metadata (7.3 kB)\n",
      "Requirement already satisfied: tenacity>=6.2.0 in c:\\users\\shrey\\appdata\\local\\programs\\python\\python311\\lib\\site-packages (from plotly) (8.5.0)\n",
      "Requirement already satisfied: packaging in c:\\users\\shrey\\appdata\\local\\programs\\python\\python311\\lib\\site-packages (from plotly) (23.2)\n",
      "Downloading plotly-5.23.0-py3-none-any.whl (17.3 MB)\n",
      "   ---------------------------------------- 0.0/17.3 MB ? eta -:--:--\n",
      "   ---------------------------------------- 0.0/17.3 MB ? eta -:--:--\n",
      "   ---------------------------------------- 0.0/17.3 MB ? eta -:--:--\n",
      "   ---------------------------------------- 0.0/17.3 MB 487.6 kB/s eta 0:00:36\n",
      "   ---------------------------------------- 0.1/17.3 MB 871.5 kB/s eta 0:00:20\n",
      "   ---------------------------------------- 0.2/17.3 MB 1.1 MB/s eta 0:00:16\n",
      "    --------------------------------------- 0.3/17.3 MB 1.3 MB/s eta 0:00:14\n",
      "    --------------------------------------- 0.4/17.3 MB 1.5 MB/s eta 0:00:12\n",
      "   - -------------------------------------- 0.5/17.3 MB 1.6 MB/s eta 0:00:11\n",
      "   - -------------------------------------- 0.6/17.3 MB 1.7 MB/s eta 0:00:10\n",
      "   - -------------------------------------- 0.7/17.3 MB 1.6 MB/s eta 0:00:11\n",
      "   - -------------------------------------- 0.7/17.3 MB 1.6 MB/s eta 0:00:11\n",
      "   -- ------------------------------------- 0.9/17.3 MB 1.8 MB/s eta 0:00:10\n",
      "   -- ------------------------------------- 0.9/17.3 MB 1.8 MB/s eta 0:00:10\n",
      "   -- ------------------------------------- 1.0/17.3 MB 1.7 MB/s eta 0:00:10\n",
      "   -- ------------------------------------- 1.2/17.3 MB 1.8 MB/s eta 0:00:09\n",
      "   --- ------------------------------------ 1.3/17.3 MB 1.9 MB/s eta 0:00:09\n",
      "   --- ------------------------------------ 1.5/17.3 MB 2.1 MB/s eta 0:00:08\n",
      "   ---- ----------------------------------- 1.8/17.3 MB 2.3 MB/s eta 0:00:07\n",
      "   ---- ----------------------------------- 1.9/17.3 MB 2.4 MB/s eta 0:00:07\n",
      "   ---- ----------------------------------- 2.1/17.3 MB 2.4 MB/s eta 0:00:07\n",
      "   ---- ----------------------------------- 2.1/17.3 MB 2.4 MB/s eta 0:00:07\n",
      "   ---- ----------------------------------- 2.1/17.3 MB 2.4 MB/s eta 0:00:07\n",
      "   ---- ----------------------------------- 2.1/17.3 MB 2.4 MB/s eta 0:00:07\n",
      "   ---- ----------------------------------- 2.1/17.3 MB 2.4 MB/s eta 0:00:07\n",
      "   ----- ---------------------------------- 2.3/17.3 MB 2.1 MB/s eta 0:00:08\n",
      "   ----- ---------------------------------- 2.4/17.3 MB 2.2 MB/s eta 0:00:07\n",
      "   ------ --------------------------------- 2.6/17.3 MB 2.2 MB/s eta 0:00:07\n",
      "   ------ --------------------------------- 2.8/17.3 MB 2.2 MB/s eta 0:00:07\n",
      "   ------ --------------------------------- 2.9/17.3 MB 2.3 MB/s eta 0:00:07\n",
      "   ------- -------------------------------- 3.1/17.3 MB 2.4 MB/s eta 0:00:07\n",
      "   ------- -------------------------------- 3.4/17.3 MB 2.4 MB/s eta 0:00:06\n",
      "   -------- ------------------------------- 3.5/17.3 MB 2.5 MB/s eta 0:00:06\n",
      "   -------- ------------------------------- 3.7/17.3 MB 2.5 MB/s eta 0:00:06\n",
      "   --------- ------------------------------ 4.0/17.3 MB 2.6 MB/s eta 0:00:06\n",
      "   --------- ------------------------------ 4.1/17.3 MB 2.6 MB/s eta 0:00:06\n",
      "   --------- ------------------------------ 4.3/17.3 MB 2.6 MB/s eta 0:00:05\n",
      "   ---------- ----------------------------- 4.5/17.3 MB 2.7 MB/s eta 0:00:05\n",
      "   ---------- ----------------------------- 4.5/17.3 MB 2.7 MB/s eta 0:00:05\n",
      "   ---------- ----------------------------- 4.6/17.3 MB 2.6 MB/s eta 0:00:05\n",
      "   ----------- ---------------------------- 4.8/17.3 MB 2.6 MB/s eta 0:00:05\n",
      "   ----------- ---------------------------- 4.9/17.3 MB 2.7 MB/s eta 0:00:05\n",
      "   ----------- ---------------------------- 4.9/17.3 MB 2.6 MB/s eta 0:00:05\n",
      "   ----------- ---------------------------- 5.1/17.3 MB 2.6 MB/s eta 0:00:05\n",
      "   ------------ --------------------------- 5.3/17.3 MB 2.7 MB/s eta 0:00:05\n",
      "   ------------ --------------------------- 5.6/17.3 MB 2.7 MB/s eta 0:00:05\n",
      "   ------------ --------------------------- 5.6/17.3 MB 2.7 MB/s eta 0:00:05\n",
      "   ------------- -------------------------- 5.7/17.3 MB 2.7 MB/s eta 0:00:05\n",
      "   ------------- -------------------------- 5.9/17.3 MB 2.7 MB/s eta 0:00:05\n",
      "   -------------- ------------------------- 6.1/17.3 MB 2.8 MB/s eta 0:00:05\n",
      "   -------------- ------------------------- 6.3/17.3 MB 2.8 MB/s eta 0:00:04\n",
      "   --------------- ------------------------ 6.6/17.3 MB 2.8 MB/s eta 0:00:04\n",
      "   --------------- ------------------------ 6.9/17.3 MB 2.9 MB/s eta 0:00:04\n",
      "   ---------------- ----------------------- 7.1/17.3 MB 2.9 MB/s eta 0:00:04\n",
      "   ---------------- ----------------------- 7.3/17.3 MB 3.0 MB/s eta 0:00:04\n",
      "   ----------------- ---------------------- 7.5/17.3 MB 3.0 MB/s eta 0:00:04\n",
      "   ----------------- ---------------------- 7.6/17.3 MB 3.0 MB/s eta 0:00:04\n",
      "   ------------------ --------------------- 7.8/17.3 MB 3.0 MB/s eta 0:00:04\n",
      "   ------------------ --------------------- 8.1/17.3 MB 3.1 MB/s eta 0:00:04\n",
      "   ------------------- -------------------- 8.4/17.3 MB 3.1 MB/s eta 0:00:03\n",
      "   ------------------- -------------------- 8.6/17.3 MB 3.1 MB/s eta 0:00:03\n",
      "   -------------------- ------------------- 8.7/17.3 MB 3.1 MB/s eta 0:00:03\n",
      "   -------------------- ------------------- 8.9/17.3 MB 3.2 MB/s eta 0:00:03\n",
      "   --------------------- ------------------ 9.1/17.3 MB 3.2 MB/s eta 0:00:03\n",
      "   --------------------- ------------------ 9.4/17.3 MB 3.2 MB/s eta 0:00:03\n",
      "   ---------------------- ----------------- 9.6/17.3 MB 3.2 MB/s eta 0:00:03\n",
      "   ---------------------- ----------------- 9.8/17.3 MB 3.2 MB/s eta 0:00:03\n",
      "   ---------------------- ----------------- 9.9/17.3 MB 3.2 MB/s eta 0:00:03\n",
      "   ----------------------- ---------------- 10.1/17.3 MB 3.2 MB/s eta 0:00:03\n",
      "   ----------------------- ---------------- 10.1/17.3 MB 3.2 MB/s eta 0:00:03\n",
      "   ----------------------- ---------------- 10.1/17.3 MB 3.2 MB/s eta 0:00:03\n",
      "   ------------------------ --------------- 10.5/17.3 MB 3.3 MB/s eta 0:00:03\n",
      "   ------------------------ --------------- 10.6/17.3 MB 3.4 MB/s eta 0:00:02\n",
      "   ------------------------ --------------- 10.7/17.3 MB 3.4 MB/s eta 0:00:02\n",
      "   ------------------------ --------------- 10.8/17.3 MB 3.3 MB/s eta 0:00:02\n",
      "   ------------------------- -------------- 10.9/17.3 MB 3.4 MB/s eta 0:00:02\n",
      "   ------------------------- -------------- 11.1/17.3 MB 3.4 MB/s eta 0:00:02\n",
      "   -------------------------- ------------- 11.3/17.3 MB 3.5 MB/s eta 0:00:02\n",
      "   -------------------------- ------------- 11.4/17.3 MB 3.5 MB/s eta 0:00:02\n",
      "   -------------------------- ------------- 11.5/17.3 MB 3.5 MB/s eta 0:00:02\n",
      "   --------------------------- ------------ 11.7/17.3 MB 3.4 MB/s eta 0:00:02\n",
      "   --------------------------- ------------ 11.9/17.3 MB 3.5 MB/s eta 0:00:02\n",
      "   --------------------------- ------------ 12.0/17.3 MB 3.4 MB/s eta 0:00:02\n",
      "   ---------------------------- ----------- 12.2/17.3 MB 3.5 MB/s eta 0:00:02\n",
      "   ---------------------------- ----------- 12.4/17.3 MB 3.7 MB/s eta 0:00:02\n",
      "   ---------------------------- ----------- 12.5/17.3 MB 3.7 MB/s eta 0:00:02\n",
      "   ----------------------------- ---------- 12.6/17.3 MB 3.6 MB/s eta 0:00:02\n",
      "   ----------------------------- ---------- 12.8/17.3 MB 3.7 MB/s eta 0:00:02\n",
      "   ------------------------------ --------- 13.0/17.3 MB 3.7 MB/s eta 0:00:02\n",
      "   ------------------------------ --------- 13.1/17.3 MB 3.7 MB/s eta 0:00:02\n",
      "   ------------------------------ --------- 13.3/17.3 MB 3.6 MB/s eta 0:00:02\n",
      "   ------------------------------- -------- 13.5/17.3 MB 3.7 MB/s eta 0:00:02\n",
      "   ------------------------------- -------- 13.6/17.3 MB 3.6 MB/s eta 0:00:02\n",
      "   ------------------------------- -------- 13.8/17.3 MB 3.6 MB/s eta 0:00:01\n",
      "   -------------------------------- ------- 14.0/17.3 MB 3.6 MB/s eta 0:00:01\n",
      "   -------------------------------- ------- 14.1/17.3 MB 3.6 MB/s eta 0:00:01\n",
      "   -------------------------------- ------- 14.2/17.3 MB 3.6 MB/s eta 0:00:01\n",
      "   -------------------------------- ------- 14.2/17.3 MB 3.6 MB/s eta 0:00:01\n",
      "   --------------------------------- ------ 14.5/17.3 MB 3.5 MB/s eta 0:00:01\n",
      "   ---------------------------------- ----- 14.7/17.3 MB 3.6 MB/s eta 0:00:01\n",
      "   ---------------------------------- ----- 14.9/17.3 MB 3.6 MB/s eta 0:00:01\n",
      "   ---------------------------------- ----- 15.0/17.3 MB 3.6 MB/s eta 0:00:01\n",
      "   ---------------------------------- ----- 15.1/17.3 MB 3.6 MB/s eta 0:00:01\n",
      "   ----------------------------------- ---- 15.3/17.3 MB 3.6 MB/s eta 0:00:01\n",
      "   ----------------------------------- ---- 15.4/17.3 MB 3.6 MB/s eta 0:00:01\n",
      "   ----------------------------------- ---- 15.6/17.3 MB 3.6 MB/s eta 0:00:01\n",
      "   ------------------------------------ --- 15.8/17.3 MB 3.6 MB/s eta 0:00:01\n",
      "   ------------------------------------ --- 15.9/17.3 MB 3.6 MB/s eta 0:00:01\n",
      "   ------------------------------------ --- 16.0/17.3 MB 3.6 MB/s eta 0:00:01\n",
      "   ------------------------------------- -- 16.2/17.3 MB 3.6 MB/s eta 0:00:01\n",
      "   ------------------------------------- -- 16.4/17.3 MB 3.6 MB/s eta 0:00:01\n",
      "   -------------------------------------- - 16.6/17.3 MB 3.6 MB/s eta 0:00:01\n",
      "   -------------------------------------- - 16.8/17.3 MB 3.6 MB/s eta 0:00:01\n",
      "   ---------------------------------------  16.9/17.3 MB 3.5 MB/s eta 0:00:01\n",
      "   ---------------------------------------  17.1/17.3 MB 3.6 MB/s eta 0:00:01\n",
      "   ---------------------------------------  17.3/17.3 MB 3.5 MB/s eta 0:00:01\n",
      "   ---------------------------------------  17.3/17.3 MB 3.5 MB/s eta 0:00:01\n",
      "   ---------------------------------------  17.3/17.3 MB 3.5 MB/s eta 0:00:01\n",
      "   ---------------------------------------- 17.3/17.3 MB 3.4 MB/s eta 0:00:00\n",
      "Installing collected packages: plotly\n",
      "Successfully installed plotly-5.23.0\n"
     ]
    },
    {
     "name": "stderr",
     "output_type": "stream",
     "text": [
      "\n",
      "[notice] A new release of pip is available: 23.2.1 -> 24.1.2\n",
      "[notice] To update, run: python.exe -m pip install --upgrade pip\n"
     ]
    }
   ],
   "source": [
    "!pip install plotly"
   ]
  },
  {
   "cell_type": "code",
   "execution_count": null,
   "metadata": {
    "id": "ipKL1GFBi6J8"
   },
   "outputs": [],
   "source": [
    "def make_graph(stock_data, revenue_data, stock):\n",
    "    fig = make_subplots(rows=2, cols=1, shared_xaxes=True, subplot_titles=(\"Historical Share Price\", \"Historical Revenue\"), vertical_spacing = .3)\n",
    "    stock_data_specific = stock_data[stock_data.Date <= '2021--06-14']\n",
    "    revenue_data_specific = revenue_data[revenue_data.Date <= '2021-04-30']\n",
    "    fig.add_trace(go.Scatter(x=pd.to_datetime(stock_data_specific.Date), y=stock_data_specific.Close.astype(\"float\"), name=\"Share Price\"), row=1, col=1)\n",
    "    fig.add_trace(go.Scatter(x=pd.to_datetime(revenue_data_specific.Date), y=revenue_data_specific.Revenue.astype(\"float\"), name=\"Revenue\"), row=2, col=1)\n",
    "    fig.update_xaxes(title_text=\"Date\", row=1, col=1)\n",
    "    fig.update_xaxes(title_text=\"Date\", row=2, col=1)\n",
    "    fig.update_yaxes(title_text=\"Price ($US)\", row=1, col=1)\n",
    "    fig.update_yaxes(title_text=\"Revenue ($US Millions)\", row=2, col=1)\n",
    "    fig.update_layout(showlegend=False,\n",
    "    height=900,\n",
    "    title=stock,\n",
    "    xaxis_rangeslider_visible=True)\n",
    "    fig.show()"
   ]
  },
  {
   "cell_type": "code",
   "execution_count": null,
   "metadata": {
    "colab": {
     "base_uri": "https://localhost:8080/",
     "height": 917
    },
    "id": "Jml0GmdFi6wZ",
    "outputId": "6989801a-f54b-46fb-a657-a7d47619936f"
   },
   "outputs": [],
   "source": [
    "make_graph(gme_data,gme_revenue,\"gme\")"
   ]
  },
  {
   "cell_type": "code",
   "execution_count": null,
   "metadata": {
    "colab": {
     "base_uri": "https://localhost:8080/",
     "height": 917
    },
    "id": "Bx_HkDV_jvpg",
    "outputId": "f2a91ceb-088c-47ff-8c97-929d33bf07e8"
   },
   "outputs": [],
   "source": [
    "make_graph(tesla_data,tesla_revenue,\"TSLA\")"
   ]
  },
  {
   "cell_type": "code",
   "execution_count": null,
   "metadata": {
    "id": "ETWfb1b7kzQu"
   },
   "outputs": [],
   "source": []
  }
 ],
 "metadata": {
  "colab": {
   "provenance": []
  },
  "kernelspec": {
   "display_name": "Python 3 (ipykernel)",
   "language": "python",
   "name": "python3"
  },
  "language_info": {
   "codemirror_mode": {
    "name": "ipython",
    "version": 3
   },
   "file_extension": ".py",
   "mimetype": "text/x-python",
   "name": "python",
   "nbconvert_exporter": "python",
   "pygments_lexer": "ipython3",
   "version": "3.11.5"
  }
 },
 "nbformat": 4,
 "nbformat_minor": 4
}
